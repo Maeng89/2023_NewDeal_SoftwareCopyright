{
 "cells": [
  {
   "cell_type": "markdown",
   "id": "95dc16ab",
   "metadata": {},
   "source": [
    "큰제목\n",
    "==="
   ]
  },
  {
   "cell_type": "markdown",
   "id": "ad641440",
   "metadata": {},
   "source": [
    "작은제목\n",
    "---"
   ]
  },
  {
   "cell_type": "markdown",
   "id": "fb450c82",
   "metadata": {},
   "source": [
    "# h1\n",
    "## h2\n",
    "### h3\n",
    "##### h4\n",
    "###### h5"
   ]
  },
  {
   "cell_type": "markdown",
   "id": "043ac12f",
   "metadata": {},
   "source": [
    "> 첫번째 블록 인용\n",
    ">> 두번째\n",
    ">>> 세번째"
   ]
  },
  {
   "cell_type": "markdown",
   "id": "77f4d9a5",
   "metadata": {},
   "source": [
    "**강조**\n",
    "~~취소~~"
   ]
  },
  {
   "cell_type": "markdown",
   "id": "d2171a0a",
   "metadata": {},
   "source": [
    "순서 있는 목록\n",
    "1. 텍스트\n",
    "2. 텍스트\n",
    "3. 텍스트\n",
    "\n",
    "순서 없는 목록(+, -, *)\n",
    "* 텍스트\n",
    "- 텍스트\n",
    "+ 텍스트"
   ]
  },
  {
   "cell_type": "markdown",
   "id": "7707f02b",
   "metadata": {},
   "source": [
    "// 이미지\n",
    "`![텍스트](이미지경로)\n",
    "<img src=\"sample.jpg\" />\n",
    "`\n",
    "\n",
    "![샘플이미지](sample.jpg)\n",
    "<img src=\"sample.jpg\" width=\"200\" height=\"200\" />"
   ]
  },
  {
   "cell_type": "markdown",
   "id": "076807bc",
   "metadata": {},
   "source": [
    "// 코드 블록,(backtick *3  , html )\n",
    "\n",
    "\n",
    "```\n",
    "def get_name():\n",
    "    print('hello')\n",
    "```\n",
    "\n",
    "// html code tag\n",
    "<pre>\n",
    "    <code>\n",
    "def get_name():\n",
    "    print('hello')\n",
    "    </code>\n",
    "</pred>"
   ]
  },
  {
   "cell_type": "markdown",
   "id": "af619319",
   "metadata": {},
   "source": [
    "// 개발언어별 하이라이팅\n",
    "python\n",
    "``` python\n",
    "def get_name():\n",
    "    print('hello')\n",
    "```\n",
    "javascript\n",
    "``` javascript\n",
    "function get_name():\n",
    "    console.log('hello')\n",
    "```"
   ]
  },
  {
   "cell_type": "markdown",
   "id": "1962b82b",
   "metadata": {},
   "source": [
    "수평선(* * *, ***, - - -, ---)\n",
    "* * *\n",
    "***\n",
    "- - -\n",
    "---"
   ]
  },
  {
   "cell_type": "markdown",
   "id": "b3032d7d",
   "metadata": {},
   "source": [
    "links\n",
    "[제목](링크경로)\n",
    "[google](http://google.com)"
   ]
  },
  {
   "cell_type": "markdown",
   "id": "8f18afc5",
   "metadata": {},
   "source": [
    "anchor\n",
    "\n",
    "## 목차\n",
    "1. [ㅎㅇ](#1.-ㅎㅇ)\n",
    "    - 34134\n",
    "2. [ㅎㅇㄹ](#2.-ㅎㅇㄹ)\n",
    "    - 900\n",
    "3. [ㅁㄴㅇㄹ](#3.-ㅁㄴㅇㄹ)\n",
    "    - ㅅㄷㄴㅅ\n",
    "    \n",
    "## 1. ㅎㅇ\n",
    "    - 12413\n",
    "    \n",
    "## 2. ㅎㅇㄹ\n",
    "    - 234234\n",
    "    \n",
    "## 3. ㅁㄴㅇㄹ\n",
    "    - 234234"
   ]
  },
  {
   "cell_type": "code",
   "execution_count": null,
   "id": "9066f303",
   "metadata": {},
   "outputs": [],
   "source": []
  }
 ],
 "metadata": {
  "kernelspec": {
   "display_name": "Python 3 (ipykernel)",
   "language": "python",
   "name": "python3"
  },
  "language_info": {
   "codemirror_mode": {
    "name": "ipython",
    "version": 3
   },
   "file_extension": ".py",
   "mimetype": "text/x-python",
   "name": "python",
   "nbconvert_exporter": "python",
   "pygments_lexer": "ipython3",
   "version": "3.11.3"
  }
 },
 "nbformat": 4,
 "nbformat_minor": 5
}
